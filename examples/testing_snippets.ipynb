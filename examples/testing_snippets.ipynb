{
 "cells": [
  {
   "cell_type": "code",
   "execution_count": 1,
   "id": "7a6e9855",
   "metadata": {},
   "outputs": [],
   "source": [
    "import (\n",
    "\t\"database/sql\"\n",
    "\t\"fmt\"\n",
    "\t\"net/url\"\n",
    "\n",
    "\t_ \"github.com/lib/pq\"\n",
    ")"
   ]
  },
  {
   "cell_type": "code",
   "execution_count": 2,
   "id": "a6ab605b",
   "metadata": {},
   "outputs": [],
   "source": [
    "func ResultSet(sqlStmt *string) ([][]string, error) {\n",
    "\tvar err error\n",
    "\tvar results *sql.Rows\n",
    "\n",
    "    conn, err := sql.Open(\n",
    "        \"postgres\", \n",
    "        \"user=admin password=admin host=deployments_virtual_data_port_1 port=9996 sslmode=disable database=\",\n",
    "    )\n",
    "    if err != nil {\n",
    "        fmt.Println(err)\n",
    "    }\n",
    "    \n",
    "\tresults, err = conn.Query(*sqlStmt)\n",
    "\tif err != nil {\n",
    "\t\treturn nil, err\n",
    "\t}\n",
    "\n",
    "\tcolumns, err := results.Columns()\n",
    "\tif err != nil {\n",
    "\t\treturn nil, err\n",
    "\t}\n",
    "\n",
    "\tcount := len(columns)\n",
    "\ttableData := [][]string{}\n",
    "\tvalues := make([]interface{}, count)\n",
    "\tvaluePtrs := make([]interface{}, count)\n",
    "\n",
    "\tfor results.Next() {\n",
    "\t\tfor i := 0; i < count; i++ {\n",
    "\t\t\tvaluePtrs[i] = &values[i]\n",
    "\t\t}\n",
    "\t\tresults.Scan(valuePtrs...)\n",
    "\t\trecord := make([]string, count)\n",
    "\t\tfor i := range columns {\n",
    "\t\t\tswitch values[i].(type) {\n",
    "\t\t\tcase nil:\n",
    "\t\t\t\tvar s string\n",
    "\t\t\t\trecord[i] = s\n",
    "\t\t\tcase []byte:\n",
    "\t\t\t\trecord[i] = string(values[i].([]byte))\n",
    "\t\t\tdefault:\n",
    "\t\t\t\trecord[i] = fmt.Sprintf(\"%s\", values[i])\n",
    "\t\t\t}\n",
    "\t\t}\n",
    "\t\ttableData = append(tableData, record)\n",
    "\t}\n",
    "\n",
    "\treturn tableData, nil\n",
    "}"
   ]
  },
  {
   "cell_type": "code",
   "execution_count": 12,
   "id": "5733fdc7",
   "metadata": {},
   "outputs": [
    {
     "data": {
      "text/plain": [
       "[19d33cb1-0197-4996-a548-0b7992400743 ds_postgres test_123 admin admin 2021-11-28 21:37:08 -0800 -0800 2021-11-28 21:37:08 -0800 -0800  /]"
      ]
     },
     "execution_count": 12,
     "metadata": {},
     "output_type": "execute_result"
    }
   ],
   "source": [
    "sqlStmt := `SELECT\n",
    "  internal_id,\n",
    "  database_name,\n",
    "  name,\n",
    "  user_creator,\n",
    "  last_user_modifier,\n",
    "  create_date,\n",
    "  last_modification_date,\n",
    "  description,\n",
    "  folder\n",
    "FROM GET_ELEMENTS()\n",
    "WHERE name = 'test_123'\n",
    "  AND database_name = 'ds_postgres'\n",
    "  AND type = 'view'\n",
    "  AND subtype = 'base';`\n",
    "resultSet, err := ResultSet(&sqlStmt)\n",
    "if err != nil {\n",
    "    fmt.Println(err)\n",
    "}\n",
    "resultSet[0]"
   ]
  },
  {
   "cell_type": "code",
   "execution_count": 28,
   "id": "584f5b56",
   "metadata": {},
   "outputs": [],
   "source": [
    "sqlStmt := `CONNECT DATABASE ds_postgres;\n",
    "CALL GENERATE_VQL_TO_CREATE_JDBC_BASE_VIEW(\n",
    "\t'ds_postgres',\n",
    "\tNULL,\n",
    "\tNULL,\n",
    "\t'test_123',\n",
    "\t'bv_test_123',\n",
    "\tNULL,\n",
    "\t'ds_postgres'\n",
    ");`\n",
    "resultSet, err := ResultSet(&sqlStmt)\n",
    "if err != nil {\n",
    "    fmt.Println(err)\n",
    "}"
   ]
  },
  {
   "cell_type": "code",
   "execution_count": 39,
   "id": "2e64cb14",
   "metadata": {},
   "outputs": [
    {
     "ename": "ERROR",
     "evalue": "repl.go:1:18: invalid type assertion: resultSet[1][0].(string) (non-interface type <string> on left)",
     "output_type": "error",
     "traceback": [
      "repl.go:1:18: invalid type assertion: resultSet[1][0].(string) (non-interface type <string> on left)"
     ]
    }
   ],
   "source": [
    "resultSet[1][0].(string)"
   ]
  },
  {
   "cell_type": "code",
   "execution_count": 37,
   "id": "52013b41",
   "metadata": {},
   "outputs": [
    {
     "ename": "ERROR",
     "evalue": "repl.go:2:4: invalid boolean predicate, expecting <bool> expression, found <string>: v",
     "output_type": "error",
     "traceback": [
      "repl.go:2:4: invalid boolean predicate, expecting <bool> expression, found <string>: v"
     ]
    }
   ],
   "source": [
    "var v string\n",
    "if v {\n",
    "    fmt.Println(\"hi\")\n",
    "}"
   ]
  },
  {
   "cell_type": "code",
   "execution_count": null,
   "id": "c0fb4b0d",
   "metadata": {},
   "outputs": [],
   "source": []
  }
 ],
 "metadata": {
  "kernelspec": {
   "display_name": "Go",
   "language": "go",
   "name": "gophernotes"
  },
  "language_info": {
   "codemirror_mode": "",
   "file_extension": ".go",
   "mimetype": "",
   "name": "go",
   "nbconvert_exporter": "",
   "pygments_lexer": "",
   "version": "go1.15.12"
  }
 },
 "nbformat": 4,
 "nbformat_minor": 5
}
